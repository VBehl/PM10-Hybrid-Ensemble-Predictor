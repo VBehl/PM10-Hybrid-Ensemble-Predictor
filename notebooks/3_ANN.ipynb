{
 "cells": [
  {
   "cell_type": "code",
   "execution_count": 1,
   "id": "8df088e8",
   "metadata": {},
   "outputs": [],
   "source": [
    "import pandas as pd\n",
    "import numpy as np\n",
    "import joblib\n",
    "import torch\n",
    "import torch.nn as nn\n",
    "import torch.optim as optim\n",
    "from sklearn.linear_model import LogisticRegression\n",
    "from sklearn.ensemble import RandomForestClassifier\n",
    "from sklearn.preprocessing import StandardScaler\n",
    "from sklearn.model_selection import train_test_split\n",
    "from sklearn.metrics import accuracy_score, precision_score, recall_score, f1_score"
   ]
  },
  {
   "cell_type": "code",
   "execution_count": 2,
   "id": "5ceb7ddd",
   "metadata": {},
   "outputs": [
    {
     "name": "stdout",
     "output_type": "stream",
     "text": [
      "Features shape: (103205, 23)\n",
      "Target shape: (103205,)\n"
     ]
    }
   ],
   "source": [
    "# Load your preprocessed dataset\n",
    "df = pd.read_csv('./Preprocessed/preprocessed_air_quality_data.csv')\n",
    "\n",
    "# Drop non-numeric and target columns from features\n",
    "target_col = 'PM10_MAX'\n",
    "drop_cols = [target_col, 'NAME', 'LASTUPDATEDATETIME', 'timestamp']\n",
    "drop_cols = [col for col in drop_cols if col in df.columns]\n",
    "features = df.drop(columns=drop_cols)\n",
    "target = df[target_col]\n",
    "\n",
    "print(f\"Features shape: {features.shape}\")\n",
    "print(f\"Target shape: {target.shape}\")"
   ]
  },
  {
   "cell_type": "code",
   "execution_count": 3,
   "id": "0abfaf38",
   "metadata": {},
   "outputs": [],
   "source": [
    "X_train, X_test, y_train, y_test = train_test_split(features, target, test_size=0.2, random_state=42)"
   ]
  },
  {
   "cell_type": "code",
   "execution_count": 4,
   "id": "f4db401f",
   "metadata": {},
   "outputs": [
    {
     "data": {
      "text/plain": [
       "['models/ann_scaler.pkl']"
      ]
     },
     "execution_count": 4,
     "metadata": {},
     "output_type": "execute_result"
    }
   ],
   "source": [
    "scaler = StandardScaler()\n",
    "X_train_scaled = scaler.fit_transform(X_train)\n",
    "X_test_scaled = scaler.transform(X_test)\n",
    "joblib.dump(scaler, 'models/ann_scaler.pkl')"
   ]
  },
  {
   "cell_type": "code",
   "execution_count": 5,
   "id": "1880311a",
   "metadata": {},
   "outputs": [],
   "source": [
    "class ANN(nn.Module):\n",
    "    def __init__(self, input_dim):\n",
    "        super(ANN, self).__init__()\n",
    "        self.layers = nn.Sequential(\n",
    "            nn.Linear(input_dim, 64),\n",
    "            nn.ReLU(),\n",
    "            nn.Dropout(0.3),\n",
    "            nn.Linear(64, 32),\n",
    "            nn.ReLU(),\n",
    "            nn.Dropout(0.3),\n",
    "            nn.Linear(32, 1)\n",
    "        )\n",
    "    def forward(self, x):\n",
    "        return self.layers(x)\n",
    "\n",
    "def train_ann_model(X_train_scaled, y_train, input_dim, epochs=50, batch_size=32):\n",
    "    model = ANN(input_dim)\n",
    "    criterion = nn.MSELoss()\n",
    "    optimizer = optim.Adam(model.parameters(), lr=0.001)\n",
    "\n",
    "    dataset = torch.utils.data.TensorDataset(\n",
    "        torch.tensor(X_train_scaled, dtype=torch.float32),\n",
    "        torch.tensor(y_train.values.reshape(-1, 1), dtype=torch.float32)\n",
    "    )\n",
    "    loader = torch.utils.data.DataLoader(dataset, batch_size=batch_size, shuffle=True)\n",
    "\n",
    "    for epoch in range(epochs):\n",
    "        model.train()\n",
    "        for batch_x, batch_y in loader:\n",
    "            optimizer.zero_grad()\n",
    "            outputs = model(batch_x)\n",
    "            loss = criterion(outputs, batch_y)\n",
    "            loss.backward()\n",
    "            optimizer.step()\n",
    "    \n",
    "    torch.save(model.state_dict(), \"models/ann_model.pth\")\n",
    "    return model"
   ]
  },
  {
   "cell_type": "code",
   "execution_count": 6,
   "id": "72ca7a09",
   "metadata": {},
   "outputs": [],
   "source": [
    "ann_model = train_ann_model(X_train_scaled, y_train, input_dim=X_train_scaled.shape[1])"
   ]
  },
  {
   "cell_type": "code",
   "execution_count": null,
   "id": "a6d45299",
   "metadata": {},
   "outputs": [
    {
     "name": "stdout",
     "output_type": "stream",
     "text": [
      "ANN Regression Evaluation:\n",
      " MAE : 0.0156\n",
      " RMSE: 0.0241\n",
      " R²  : 0.9893\n"
     ]
    }
   ],
   "source": [
    "from sklearn.metrics import mean_absolute_error, mean_squared_error, r2_score\n",
    "import numpy as np\n",
    "\n",
    "def evaluate_ann_regression(model, X_test_scaled, y_test):\n",
    "    model.eval()\n",
    "    with torch.no_grad():\n",
    "        inputs = torch.tensor(X_test_scaled, dtype=torch.float32)\n",
    "        predictions = model(inputs).numpy().flatten()  # Get predicted values\n",
    "\n",
    "    # True values (make sure it's a 1D array)\n",
    "    true_values = y_test\n",
    "\n",
    "    # Compute metrics\n",
    "    mae = mean_absolute_error(true_values, predictions)\n",
    "    mse = mean_squared_error(true_values, predictions)\n",
    "    rmse = np.sqrt(mse)\n",
    "    r2 = r2_score(true_values, predictions)\n",
    "\n",
    "    print(f\"ANN Regression Evaluation:\")\n",
    "    print(f\" MAE : {mae:.4f}\")\n",
    "    print(f\" RMSE: {rmse:.4f}\")\n",
    "    print(f\" R²  : {r2:.4f}\")\n",
    "\n",
    "evaluate_ann_regression(ann_model, X_test_scaled, y_test)\n"
   ]
  },
  {
   "cell_type": "code",
   "execution_count": 13,
   "id": "8692040a",
   "metadata": {},
   "outputs": [
    {
     "name": "stdout",
     "output_type": "stream",
     "text": [
      "\n",
      "Fold 1\n",
      "MAE: 0.0481, RMSE: 0.0625, R²: 0.9024\n",
      "\n",
      "Fold 2\n",
      "MAE: 0.0486, RMSE: 0.0669, R²: 0.8419\n",
      "\n",
      "Fold 3\n",
      "MAE: 0.0780, RMSE: 0.1483, R²: 0.3517\n",
      "\n",
      "Fold 4\n",
      "MAE: 0.0821, RMSE: 0.1409, R²: 0.5642\n",
      "\n",
      "Fold 5\n",
      "MAE: 0.0427, RMSE: 0.0573, R²: 0.9391\n",
      "\n",
      "🔁 TSCV ANN Evaluation (avg across folds):\n",
      "Mean MAE: 0.0599 ± 0.0167\n",
      "Mean RMSE: 0.0952 ± 0.0405\n",
      "Mean R²: 0.7199 ± 0.2263\n"
     ]
    }
   ],
   "source": [
    "from sklearn.model_selection import TimeSeriesSplit\n",
    "from sklearn.metrics import mean_absolute_error, mean_squared_error, r2_score\n",
    "\n",
    "# Convert numpy arrays to PyTorch tensors\n",
    "X_scaled = scaler.fit_transform(features)\n",
    "y_np = target.values.reshape(-1, 1)\n",
    "\n",
    "X_tensor = torch.tensor(X_scaled, dtype=torch.float32)\n",
    "y_tensor = torch.tensor(y_np, dtype=torch.float32)\n",
    "\n",
    "tscv = TimeSeriesSplit(n_splits=5)\n",
    "\n",
    "# Store metrics\n",
    "mae_scores, rmse_scores, r2_scores = [], [], []\n",
    "\n",
    "# Loop through time series folds\n",
    "for fold, (train_idx, test_idx) in enumerate(tscv.split(X_tensor)):\n",
    "    print(f\"\\nFold {fold+1}\")\n",
    "    X_train_fold, X_test_fold = X_tensor[train_idx], X_tensor[test_idx]\n",
    "    y_train_fold, y_test_fold = y_tensor[train_idx], y_tensor[test_idx]\n",
    "\n",
    "    # Model and optimizer\n",
    "    model = ANN(input_dim=X_tensor.shape[1])\n",
    "    criterion = nn.MSELoss()\n",
    "    optimizer = optim.Adam(model.parameters(), lr=0.001)\n",
    "\n",
    "    # Train the model\n",
    "    model.train()\n",
    "    for epoch in range(100):  # Simple fixed epochs\n",
    "        optimizer.zero_grad()\n",
    "        output = model(X_train_fold)\n",
    "        loss = criterion(output, y_train_fold)\n",
    "        loss.backward()\n",
    "        optimizer.step()\n",
    "\n",
    "    # Evaluate\n",
    "    model.eval()\n",
    "    with torch.no_grad():\n",
    "        y_pred = model(X_test_fold).numpy().flatten()\n",
    "        y_true = y_test_fold.numpy().flatten()\n",
    "\n",
    "        mae = mean_absolute_error(y_true, y_pred)\n",
    "        rmse = np.sqrt(mean_squared_error(y_true, y_pred))\n",
    "        r2 = r2_score(y_true, y_pred)\n",
    "\n",
    "        mae_scores.append(mae)\n",
    "        rmse_scores.append(rmse)\n",
    "        r2_scores.append(r2)\n",
    "\n",
    "        print(f\"MAE: {mae:.4f}, RMSE: {rmse:.4f}, R²: {r2:.4f}\")\n",
    "\n",
    "# Final averaged results\n",
    "print(\"\\n🔁 TSCV ANN Evaluation (avg across folds):\")\n",
    "print(f\"Mean MAE: {np.mean(mae_scores):.4f} ± {np.std(mae_scores):.4f}\")\n",
    "print(f\"Mean RMSE: {np.mean(rmse_scores):.4f} ± {np.std(rmse_scores):.4f}\")\n",
    "print(f\"Mean R²: {np.mean(r2_scores):.4f} ± {np.std(r2_scores):.4f}\")"
   ]
  },
  {
   "cell_type": "code",
   "execution_count": 16,
   "id": "6ed229f8",
   "metadata": {},
   "outputs": [
    {
     "name": "stdout",
     "output_type": "stream",
     "text": [
      "\n",
      "Fold 1\n",
      "MAE: 0.0539, RMSE: 0.0725, R²: 0.8684\n",
      "\n",
      "Fold 2\n",
      "MAE: 0.0630, RMSE: 0.0881, R²: 0.7256\n",
      "\n",
      "Fold 3\n",
      "MAE: 0.0842, RMSE: 0.1371, R²: 0.4459\n",
      "\n",
      "Fold 4\n",
      "MAE: 0.0683, RMSE: 0.1162, R²: 0.7036\n",
      "\n",
      "Fold 5\n",
      "MAE: 0.0492, RMSE: 0.0683, R²: 0.9133\n",
      "\n",
      "🔁 TSCV ANN Evaluation (avg across folds):\n",
      "Mean MAE: 0.0637 ± 0.0122\n",
      "Mean RMSE: 0.0965 ± 0.0264\n",
      "Mean R²: 0.7314 ± 0.1638\n"
     ]
    }
   ],
   "source": [
    "from sklearn.model_selection import TimeSeriesSplit\n",
    "from sklearn.metrics import mean_absolute_error, mean_squared_error, r2_score\n",
    "\n",
    "# Convert numpy arrays to PyTorch tensors\n",
    "X_scaled = scaler.fit_transform(features)\n",
    "y_np = target.values.reshape(-1, 1)\n",
    "\n",
    "X_tensor = torch.tensor(X_scaled, dtype=torch.float32)\n",
    "y_tensor = torch.tensor(y_np, dtype=torch.float32)\n",
    "\n",
    "tscv = TimeSeriesSplit(n_splits=5)\n",
    "\n",
    "# Store metrics\n",
    "mae_scores, rmse_scores, r2_scores = [], [], []\n",
    "\n",
    "# Loop through time series folds\n",
    "for fold, (train_idx, test_idx) in enumerate(tscv.split(X_tensor)):\n",
    "    print(f\"\\nFold {fold+1}\")\n",
    "    X_train_fold, X_test_fold = X_tensor[train_idx], X_tensor[test_idx]\n",
    "    y_train_fold, y_test_fold = y_tensor[train_idx], y_tensor[test_idx]\n",
    "\n",
    "    # Model and optimizer\n",
    "    model = ANN(input_dim=X_tensor.shape[1])\n",
    "    criterion = nn.MSELoss()\n",
    "    optimizer = optim.Adam(model.parameters(), lr=0.001)\n",
    "\n",
    "    # Train the model\n",
    "    model.train()\n",
    "    for epoch in range(100):  # Simple fixed epochs\n",
    "        optimizer.zero_grad()\n",
    "        output = model(X_train_fold)\n",
    "        loss = criterion(output, y_train_fold)\n",
    "        loss.backward()\n",
    "        optimizer.step()\n",
    "\n",
    "    # Evaluate\n",
    "    model.eval()\n",
    "    with torch.no_grad():\n",
    "        y_pred = model(X_test_fold).numpy().flatten()\n",
    "        y_true = y_test_fold.numpy().flatten()\n",
    "\n",
    "        mae = mean_absolute_error(y_true, y_pred)\n",
    "        rmse = np.sqrt(mean_squared_error(y_true, y_pred))\n",
    "        r2 = r2_score(y_true, y_pred)\n",
    "\n",
    "        mae_scores.append(mae)\n",
    "        rmse_scores.append(rmse)\n",
    "        r2_scores.append(r2)\n",
    "\n",
    "        print(f\"MAE: {mae:.4f}, RMSE: {rmse:.4f}, R²: {r2:.4f}\")\n",
    "\n",
    "# Final averaged results\n",
    "print(\"\\n🔁 TSCV ANN Evaluation (avg across folds):\")\n",
    "print(f\"Mean MAE: {np.mean(mae_scores):.4f} ± {np.std(mae_scores):.4f}\")\n",
    "print(f\"Mean RMSE: {np.mean(rmse_scores):.4f} ± {np.std(rmse_scores):.4f}\")\n",
    "print(f\"Mean R²: {np.mean(r2_scores):.4f} ± {np.std(r2_scores):.4f}\")"
   ]
  },
  {
   "cell_type": "code",
   "execution_count": 11,
   "id": "607ef74c",
   "metadata": {},
   "outputs": [],
   "source": [
    "torch.save(ann_model.state_dict(), \"models/ann_model.pth\")"
   ]
  },
  {
   "cell_type": "code",
   "execution_count": 12,
   "id": "0a50b68a",
   "metadata": {},
   "outputs": [],
   "source": [
    "import matplotlib.pyplot as plt\n",
    "import seaborn as sns\n",
    "from tabulate import tabulate\n",
    "from sklearn.metrics import mean_absolute_error, mean_squared_error, r2_score\n",
    "import numpy as np\n",
    "import torch"
   ]
  },
  {
   "cell_type": "code",
   "execution_count": 13,
   "id": "5bf7d32a",
   "metadata": {},
   "outputs": [],
   "source": [
    "# Get predictions\n",
    "ann_model.eval()\n",
    "with torch.no_grad():\n",
    "    inputs = torch.tensor(X_test_scaled, dtype=torch.float32)\n",
    "    predictions = ann_model(inputs).numpy().flatten()"
   ]
  },
  {
   "cell_type": "code",
   "execution_count": 14,
   "id": "bb109900",
   "metadata": {},
   "outputs": [
    {
     "data": {
      "image/png": "[encoded data removed]",
      "text/plain": [
       "<Figure size 800x600 with 1 Axes>"
      ]
     },
     "metadata": {},
     "output_type": "display_data"
    }
   ],
   "source": [
    "plt.figure(figsize=(8, 6))\n",
    "plt.scatter(y_test, predictions, alpha=0.6, color='dodgerblue')\n",
    "plt.plot([y_test.min(), y_test.max()], [y_test.min(), y_test.max()], 'r--', lw=2)\n",
    "plt.xlabel(\"Actual PM10_MAX\")\n",
    "plt.ylabel(\"Predicted PM10_MAX\")\n",
    "plt.title(\"Actual vs Predicted (ANN)\")\n",
    "plt.grid(True)\n",
    "plt.tight_layout()\n",
    "plt.show()"
   ]
  },
  {
   "cell_type": "code",
   "execution_count": null,
   "id": "8b729c76",
   "metadata": {},
   "outputs": [
    {
     "name": "stdout",
     "output_type": "stream",
     "text": [
      "\n",
      "📊 ANN Performance Metrics:\n",
      "+------------+--------+--------+----------+\n",
      "|            |  MAE   |  RMSE  | R² Score |\n",
      "+------------+--------+--------+----------+\n",
      "|   Train    | 0.019  | 0.0264 |  0.9869  |\n",
      "| Validation | 0.0191 | 0.027  |  0.9865  |\n",
      "+------------+--------+--------+----------+\n"
     ]
    }
   ],
   "source": [
    "# Step 1: Get predictions on Train and Test sets\n",
    "ann_model.eval()\n",
    "with torch.no_grad():\n",
    "    # Train predictions\n",
    "    train_inputs = torch.tensor(X_train_scaled, dtype=torch.float32)\n",
    "    ann_train_pred = ann_model(train_inputs).numpy().flatten()\n",
    "    \n",
    "    # Test/Validation predictions\n",
    "    test_inputs = torch.tensor(X_test_scaled, dtype=torch.float32)\n",
    "    ann_val_pred = ann_model(test_inputs).numpy().flatten()\n",
    "\n",
    "# Step 2: Define and apply regression metrics\n",
    "def regression_metrics(y_true, y_pred):\n",
    "    mae = mean_absolute_error(y_true, y_pred)\n",
    "    rmse = np.sqrt(mean_squared_error(y_true, y_pred))\n",
    "    r2 = r2_score(y_true, y_pred)\n",
    "    return mae, rmse, r2\n",
    "\n",
    "ann_train_metrics = regression_metrics(y_train, ann_train_pred)\n",
    "ann_val_metrics = regression_metrics(y_test, ann_val_pred)\n",
    "\n",
    "# Step 3: Create and print tabulated results\n",
    "ann_metrics_df = pd.DataFrame({\n",
    "    'MAE': [ann_train_metrics[0], ann_val_metrics[0]],\n",
    "    'RMSE': [ann_train_metrics[1], ann_val_metrics[1]],\n",
    "    'R² Score': [ann_train_metrics[2], ann_val_metrics[2]]\n",
    "}, index=['Train', 'Validation'])\n",
    "\n",
    "print(\"\\n📊 ANN Performance Metrics:\")\n",
    "print(tabulate(ann_metrics_df.round(4), headers='keys', tablefmt='pretty'))\n"
   ]
  }
 ],
 "metadata": {
  "kernelspec": {
   "display_name": ".conda",
   "language": "python",
   "name": "python3"
  },
  "language_info": {
   "codemirror_mode": {
    "name": "ipython",
    "version": 3
   },
   "file_extension": ".py",
   "mimetype": "text/x-python",
   "name": "python",
   "nbconvert_exporter": "python",
   "pygments_lexer": "ipython3",
   "version": "3.10.16"
  }
 },
 "nbformat": 4,
 "nbformat_minor": 5
}
